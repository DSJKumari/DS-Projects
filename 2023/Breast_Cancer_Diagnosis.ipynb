{
  "nbformat": 4,
  "nbformat_minor": 0,
  "metadata": {
    "colab": {
      "provenance": []
    },
    "kernelspec": {
      "name": "python3",
      "display_name": "Python 3"
    },
    "language_info": {
      "name": "python"
    }
  },
  "cells": [
    {
      "cell_type": "code",
      "execution_count": 7,
      "metadata": {
        "colab": {
          "base_uri": "https://localhost:8080/"
        },
        "id": "Vo1e1kwvvyvF",
        "outputId": "df0ae38f-4d7b-4bc6-f45c-39fb08c02f8d"
      },
      "outputs": [
        {
          "output_type": "stream",
          "name": "stdout",
          "text": [
            "Accuracy of Logistic Regression:  0.9666666666666667\n",
            "Accuracy of KNN:  0.9666666666666667\n",
            "Accuracy of SVM:  0.9761904761904762\n",
            "Classification report for Logistic Regression:\n",
            "               precision    recall  f1-score   support\n",
            "\n",
            "           2       0.97      0.99      0.98       143\n",
            "           4       0.97      0.93      0.95        67\n",
            "\n",
            "    accuracy                           0.97       210\n",
            "   macro avg       0.97      0.96      0.96       210\n",
            "weighted avg       0.97      0.97      0.97       210\n",
            "\n",
            "Classification report for KNN:\n",
            "               precision    recall  f1-score   support\n",
            "\n",
            "           2       0.97      0.99      0.98       143\n",
            "           4       0.97      0.93      0.95        67\n",
            "\n",
            "    accuracy                           0.97       210\n",
            "   macro avg       0.97      0.96      0.96       210\n",
            "weighted avg       0.97      0.97      0.97       210\n",
            "\n",
            "Classification report for SVM:\n",
            "               precision    recall  f1-score   support\n",
            "\n",
            "           2       0.98      0.99      0.98       143\n",
            "           4       0.97      0.96      0.96        67\n",
            "\n",
            "    accuracy                           0.98       210\n",
            "   macro avg       0.97      0.97      0.97       210\n",
            "weighted avg       0.98      0.98      0.98       210\n",
            "\n"
          ]
        }
      ],
      "source": [
        "import pandas as pd\n",
        "from sklearn.model_selection import train_test_split\n",
        "from sklearn.preprocessing import StandardScaler\n",
        "from sklearn.linear_model import LogisticRegression\n",
        "from sklearn.neighbors import KNeighborsClassifier\n",
        "from sklearn.svm import SVC\n",
        "from sklearn.metrics import accuracy_score, classification_report\n",
        "\n",
        "# Load the dataset\n",
        "file_path = './breast-cancer-wisconsin.data'\n",
        "column_names = [\n",
        "    \"Sample code number\", \"Clump Thickness\", \"Uniformity of Cell Size\",\n",
        "    \"Uniformity of Cell Shape\", \"Marginal Adhesion\", \"Single Epithelial Cell Size\",\n",
        "    \"Bare Nuclei\", \"Bland Chromatin\", \"Normal Nucleoli\", \"Mitoses\", \"Class\"\n",
        "]\n",
        "data = pd.read_csv(file_path, names=column_names)\n",
        "\n",
        "# Convert 'Bare Nuclei' to numeric and handle non-numeric values by replacing them with NaN\n",
        "data['Bare Nuclei'] = pd.to_numeric(data['Bare Nuclei'], errors='coerce')\n",
        "\n",
        "# Drop the 'Sample code number' as it is not a feature for model training\n",
        "data = data.drop(columns=['Sample code number'])\n",
        "\n",
        "# Impute missing values in 'Bare Nuclei' with the median of the column\n",
        "data['Bare Nuclei'].fillna(data['Bare Nuclei'].median(), inplace=True)\n",
        "\n",
        "# Define features and target\n",
        "X = data.drop(columns=['Class'])\n",
        "y = data['Class']\n",
        "\n",
        "# Split the data into train and test sets\n",
        "X_train, X_test, y_train, y_test = train_test_split(X, y, test_size=0.3, random_state=42)\n",
        "\n",
        "# Feature scaling\n",
        "scaler = StandardScaler()\n",
        "X_train_scaled = scaler.fit_transform(X_train)\n",
        "X_test_scaled = scaler.transform(X_test)\n",
        "\n",
        "# Initialize the models\n",
        "logistic_model = LogisticRegression(random_state=42)\n",
        "knn_model = KNeighborsClassifier()\n",
        "svm_model = SVC(random_state=42)\n",
        "\n",
        "# Train the models\n",
        "logistic_model.fit(X_train_scaled, y_train)\n",
        "knn_model.fit(X_train_scaled, y_train)\n",
        "svm_model.fit(X_train_scaled, y_train)\n",
        "\n",
        "# Predict on the test data\n",
        "logistic_pred = logistic_model.predict(X_test_scaled)\n",
        "knn_pred = knn_model.predict(X_test_scaled)\n",
        "svm_pred = svm_model.predict(X_test_scaled)\n",
        "\n",
        "# Evaluate the models\n",
        "logistic_accuracy = accuracy_score(y_test, logistic_pred)\n",
        "knn_accuracy = accuracy_score(y_test, knn_pred)\n",
        "svm_accuracy = accuracy_score(y_test, svm_pred)\n",
        "\n",
        "# Print the accuracy for each model\n",
        "print(\"Accuracy of Logistic Regression: \", logistic_accuracy)\n",
        "print(\"Accuracy of KNN: \", knn_accuracy)\n",
        "print(\"Accuracy of SVM: \", svm_accuracy)\n",
        "\n",
        "# Generate and print classification reports\n",
        "print(\"Classification report for Logistic Regression:\\n\", classification_report(y_test, logistic_pred))\n",
        "print(\"Classification report for KNN:\\n\", classification_report(y_test, knn_pred))\n",
        "print(\"Classification report for SVM:\\n\", classification_report(y_test, svm_pred))\n"
      ]
    }
  ]
}